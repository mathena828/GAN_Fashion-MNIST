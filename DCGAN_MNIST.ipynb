{
  "nbformat": 4,
  "nbformat_minor": 0,
  "metadata": {
    "colab": {
      "name": "DCGAN-MNIST.ipynb",
      "provenance": [],
      "collapsed_sections": [],
      "authorship_tag": "ABX9TyOMdnxBZGw0tG4jVjKlTivP",
      "include_colab_link": true
    },
    "kernelspec": {
      "name": "python3",
      "display_name": "Python 3"
    }
  },
  "cells": [
    {
      "cell_type": "markdown",
      "metadata": {
        "id": "view-in-github",
        "colab_type": "text"
      },
      "source": [
        "<a href=\"https://colab.research.google.com/github/mathena828/GAN_Fashion-MNIST/blob/main/DCGAN_MNIST.ipynb\" target=\"_parent\"><img src=\"https://colab.research.google.com/assets/colab-badge.svg\" alt=\"Open In Colab\"/></a>"
      ]
    },
    {
      "cell_type": "code",
      "metadata": {
        "colab": {
          "base_uri": "https://localhost:8080/"
        },
        "id": "ylzzFrYKXgqM",
        "outputId": "15f9575e-82f8-4d33-cf14-78fa7c6dff33"
      },
      "source": [
        "from google.colab import drive\n",
        "drive.mount('/content/gdrive')"
      ],
      "execution_count": 2,
      "outputs": [
        {
          "output_type": "stream",
          "text": [
            "Mounted at /content/gdrive\n"
          ],
          "name": "stdout"
        }
      ]
    },
    {
      "cell_type": "code",
      "metadata": {
        "colab": {
          "base_uri": "https://localhost:8080/"
        },
        "id": "niHVoyNADT5k",
        "outputId": "7fec9d70-6b5a-4c1f-e79b-6b74beeeb04c"
      },
      "source": [
        "!pip install -q imageio\n",
        "!pip install -q git+https://github.com/tensorflow/docs"
      ],
      "execution_count": 3,
      "outputs": [
        {
          "output_type": "stream",
          "text": [
            "\u001b[?25l\r\u001b[K     |▎                               | 10kB 19.4MB/s eta 0:00:01\r\u001b[K     |▋                               | 20kB 24.0MB/s eta 0:00:01\r\u001b[K     |█                               | 30kB 10.2MB/s eta 0:00:01\r\u001b[K     |█▎                              | 40kB 8.2MB/s eta 0:00:01\r\u001b[K     |█▋                              | 51kB 4.4MB/s eta 0:00:01\r\u001b[K     |██                              | 61kB 4.9MB/s eta 0:00:01\r\u001b[K     |██▎                             | 71kB 5.0MB/s eta 0:00:01\r\u001b[K     |██▋                             | 81kB 5.2MB/s eta 0:00:01\r\u001b[K     |██▉                             | 92kB 5.7MB/s eta 0:00:01\r\u001b[K     |███▏                            | 102kB 5.8MB/s eta 0:00:01\r\u001b[K     |███▌                            | 112kB 5.8MB/s eta 0:00:01\r\u001b[K     |███▉                            | 122kB 5.8MB/s eta 0:00:01\r\u001b[K     |████▏                           | 133kB 5.8MB/s eta 0:00:01\r\u001b[K     |████▌                           | 143kB 5.8MB/s eta 0:00:01\r\u001b[K     |████▉                           | 153kB 5.8MB/s eta 0:00:01\r\u001b[K     |█████▏                          | 163kB 5.8MB/s eta 0:00:01\r\u001b[K     |█████▌                          | 174kB 5.8MB/s eta 0:00:01\r\u001b[K     |█████▊                          | 184kB 5.8MB/s eta 0:00:01\r\u001b[K     |██████                          | 194kB 5.8MB/s eta 0:00:01\r\u001b[K     |██████▍                         | 204kB 5.8MB/s eta 0:00:01\r\u001b[K     |██████▊                         | 215kB 5.8MB/s eta 0:00:01\r\u001b[K     |███████                         | 225kB 5.8MB/s eta 0:00:01\r\u001b[K     |███████▍                        | 235kB 5.8MB/s eta 0:00:01\r\u001b[K     |███████▊                        | 245kB 5.8MB/s eta 0:00:01\r\u001b[K     |████████                        | 256kB 5.8MB/s eta 0:00:01\r\u001b[K     |████████▍                       | 266kB 5.8MB/s eta 0:00:01\r\u001b[K     |████████▋                       | 276kB 5.8MB/s eta 0:00:01\r\u001b[K     |█████████                       | 286kB 5.8MB/s eta 0:00:01\r\u001b[K     |█████████▎                      | 296kB 5.8MB/s eta 0:00:01\r\u001b[K     |█████████▋                      | 307kB 5.8MB/s eta 0:00:01\r\u001b[K     |██████████                      | 317kB 5.8MB/s eta 0:00:01\r\u001b[K     |██████████▎                     | 327kB 5.8MB/s eta 0:00:01\r\u001b[K     |██████████▋                     | 337kB 5.8MB/s eta 0:00:01\r\u001b[K     |███████████                     | 348kB 5.8MB/s eta 0:00:01\r\u001b[K     |███████████▎                    | 358kB 5.8MB/s eta 0:00:01\r\u001b[K     |███████████▌                    | 368kB 5.8MB/s eta 0:00:01\r\u001b[K     |███████████▉                    | 378kB 5.8MB/s eta 0:00:01\r\u001b[K     |████████████▏                   | 389kB 5.8MB/s eta 0:00:01\r\u001b[K     |████████████▌                   | 399kB 5.8MB/s eta 0:00:01\r\u001b[K     |████████████▉                   | 409kB 5.8MB/s eta 0:00:01\r\u001b[K     |█████████████▏                  | 419kB 5.8MB/s eta 0:00:01\r\u001b[K     |█████████████▌                  | 430kB 5.8MB/s eta 0:00:01\r\u001b[K     |█████████████▉                  | 440kB 5.8MB/s eta 0:00:01\r\u001b[K     |██████████████▏                 | 450kB 5.8MB/s eta 0:00:01\r\u001b[K     |██████████████▍                 | 460kB 5.8MB/s eta 0:00:01\r\u001b[K     |██████████████▊                 | 471kB 5.8MB/s eta 0:00:01\r\u001b[K     |███████████████                 | 481kB 5.8MB/s eta 0:00:01\r\u001b[K     |███████████████▍                | 491kB 5.8MB/s eta 0:00:01\r\u001b[K     |███████████████▊                | 501kB 5.8MB/s eta 0:00:01\r\u001b[K     |████████████████                | 512kB 5.8MB/s eta 0:00:01\r\u001b[K     |████████████████▍               | 522kB 5.8MB/s eta 0:00:01\r\u001b[K     |████████████████▊               | 532kB 5.8MB/s eta 0:00:01\r\u001b[K     |█████████████████               | 542kB 5.8MB/s eta 0:00:01\r\u001b[K     |█████████████████▎              | 552kB 5.8MB/s eta 0:00:01\r\u001b[K     |█████████████████▋              | 563kB 5.8MB/s eta 0:00:01\r\u001b[K     |██████████████████              | 573kB 5.8MB/s eta 0:00:01\r\u001b[K     |██████████████████▎             | 583kB 5.8MB/s eta 0:00:01\r\u001b[K     |██████████████████▋             | 593kB 5.8MB/s eta 0:00:01\r\u001b[K     |███████████████████             | 604kB 5.8MB/s eta 0:00:01\r\u001b[K     |███████████████████▎            | 614kB 5.8MB/s eta 0:00:01\r\u001b[K     |███████████████████▋            | 624kB 5.8MB/s eta 0:00:01\r\u001b[K     |████████████████████            | 634kB 5.8MB/s eta 0:00:01\r\u001b[K     |████████████████████▏           | 645kB 5.8MB/s eta 0:00:01\r\u001b[K     |████████████████████▌           | 655kB 5.8MB/s eta 0:00:01\r\u001b[K     |████████████████████▉           | 665kB 5.8MB/s eta 0:00:01\r\u001b[K     |█████████████████████▏          | 675kB 5.8MB/s eta 0:00:01\r\u001b[K     |█████████████████████▌          | 686kB 5.8MB/s eta 0:00:01\r\u001b[K     |█████████████████████▉          | 696kB 5.8MB/s eta 0:00:01\r\u001b[K     |██████████████████████▏         | 706kB 5.8MB/s eta 0:00:01\r\u001b[K     |██████████████████████▌         | 716kB 5.8MB/s eta 0:00:01\r\u001b[K     |██████████████████████▉         | 727kB 5.8MB/s eta 0:00:01\r\u001b[K     |███████████████████████         | 737kB 5.8MB/s eta 0:00:01\r\u001b[K     |███████████████████████▍        | 747kB 5.8MB/s eta 0:00:01\r\u001b[K     |███████████████████████▊        | 757kB 5.8MB/s eta 0:00:01\r\u001b[K     |████████████████████████        | 768kB 5.8MB/s eta 0:00:01\r\u001b[K     |████████████████████████▍       | 778kB 5.8MB/s eta 0:00:01\r\u001b[K     |████████████████████████▊       | 788kB 5.8MB/s eta 0:00:01\r\u001b[K     |█████████████████████████       | 798kB 5.8MB/s eta 0:00:01\r\u001b[K     |█████████████████████████▍      | 808kB 5.8MB/s eta 0:00:01\r\u001b[K     |█████████████████████████▊      | 819kB 5.8MB/s eta 0:00:01\r\u001b[K     |██████████████████████████      | 829kB 5.8MB/s eta 0:00:01\r\u001b[K     |██████████████████████████▎     | 839kB 5.8MB/s eta 0:00:01\r\u001b[K     |██████████████████████████▋     | 849kB 5.8MB/s eta 0:00:01\r\u001b[K     |███████████████████████████     | 860kB 5.8MB/s eta 0:00:01\r\u001b[K     |███████████████████████████▎    | 870kB 5.8MB/s eta 0:00:01\r\u001b[K     |███████████████████████████▋    | 880kB 5.8MB/s eta 0:00:01\r\u001b[K     |████████████████████████████    | 890kB 5.8MB/s eta 0:00:01\r\u001b[K     |████████████████████████████▎   | 901kB 5.8MB/s eta 0:00:01\r\u001b[K     |████████████████████████████▋   | 911kB 5.8MB/s eta 0:00:01\r\u001b[K     |████████████████████████████▉   | 921kB 5.8MB/s eta 0:00:01\r\u001b[K     |█████████████████████████████▏  | 931kB 5.8MB/s eta 0:00:01\r\u001b[K     |█████████████████████████████▌  | 942kB 5.8MB/s eta 0:00:01\r\u001b[K     |█████████████████████████████▉  | 952kB 5.8MB/s eta 0:00:01\r\u001b[K     |██████████████████████████████▏ | 962kB 5.8MB/s eta 0:00:01\r\u001b[K     |██████████████████████████████▌ | 972kB 5.8MB/s eta 0:00:01\r\u001b[K     |██████████████████████████████▉ | 983kB 5.8MB/s eta 0:00:01\r\u001b[K     |███████████████████████████████▏| 993kB 5.8MB/s eta 0:00:01\r\u001b[K     |███████████████████████████████▌| 1.0MB 5.8MB/s eta 0:00:01\r\u001b[K     |███████████████████████████████▊| 1.0MB 5.8MB/s eta 0:00:01\r\u001b[K     |████████████████████████████████| 1.0MB 5.8MB/s \n",
            "\u001b[?25h  Building wheel for tensorflow-docs (setup.py) ... \u001b[?25l\u001b[?25hdone\n"
          ],
          "name": "stdout"
        }
      ]
    },
    {
      "cell_type": "code",
      "metadata": {
        "id": "Uufs4ewnDcZY"
      },
      "source": [
        "# Import libraries.\n",
        "import os\n",
        "import PIL\n",
        "import glob\n",
        "import time\n",
        "import imageio\n",
        "import numpy as np\n",
        "import tensorflow as tf\n",
        "from IPython import display\n",
        "import matplotlib.pyplot as plt\n",
        "from tensorflow.keras import layers\n",
        "from keras.preprocessing import image\n",
        "import tensorflow_docs.vis.embed as embed"
      ],
      "execution_count": 4,
      "outputs": []
    },
    {
      "cell_type": "code",
      "metadata": {
        "colab": {
          "base_uri": "https://localhost:8080/"
        },
        "id": "UhP9bclnepL_",
        "outputId": "24b3bdfa-d992-4387-8cd5-330e4be4aca5"
      },
      "source": [
        "# Download the Fashion MNIST dataset.\n",
        "(train_images, train_labels), (test_images, test_labels) =  tf.keras.datasets.fashion_mnist.load_data()"
      ],
      "execution_count": 5,
      "outputs": [
        {
          "output_type": "stream",
          "text": [
            "Downloading data from https://storage.googleapis.com/tensorflow/tf-keras-datasets/train-labels-idx1-ubyte.gz\n",
            "32768/29515 [=================================] - 0s 0us/step\n",
            "Downloading data from https://storage.googleapis.com/tensorflow/tf-keras-datasets/train-images-idx3-ubyte.gz\n",
            "26427392/26421880 [==============================] - 0s 0us/step\n",
            "Downloading data from https://storage.googleapis.com/tensorflow/tf-keras-datasets/t10k-labels-idx1-ubyte.gz\n",
            "8192/5148 [===============================================] - 0s 0us/step\n",
            "Downloading data from https://storage.googleapis.com/tensorflow/tf-keras-datasets/t10k-images-idx3-ubyte.gz\n",
            "4423680/4422102 [==============================] - 0s 0us/step\n"
          ],
          "name": "stdout"
        }
      ]
    },
    {
      "cell_type": "code",
      "metadata": {
        "id": "bzAN0l7-eyqA"
      },
      "source": [
        "# Pre-process the 60,000 training set images.\n",
        "train_images = train_images.reshape(train_images.shape[0], 28, 28, 1).astype('float32') # Convert pixels to floating point values. \n",
        "train_images = (train_images - 127.5) / 127.5 # Normalize the pixel values to be in the range of [-1,1]."
      ],
      "execution_count": 6,
      "outputs": []
    },
    {
      "cell_type": "code",
      "metadata": {
        "id": "cepTbRspfTQW"
      },
      "source": [
        "# Perform hyperparameter optimization.\n",
        "BUFFER_SIZE = 60000\n",
        "BATCH_SIZE = 256\n",
        "EPOCHS = 50 \n",
        "NOISE_DIM = 100\n",
        "EXAMPLES = 16\n",
        "# Define a random seed value that will be used to produce images.\n",
        "seed = tf.random.normal([EXAMPLES, NOISE_DIM])"
      ],
      "execution_count": 7,
      "outputs": []
    },
    {
      "cell_type": "code",
      "metadata": {
        "id": "N-MBXwc2fW4a"
      },
      "source": [
        "# Shuffle then batch the dataset.\n",
        "train_dataset = tf.data.Dataset.from_tensor_slices(train_images).shuffle(BUFFER_SIZE).batch(BATCH_SIZE)"
      ],
      "execution_count": 8,
      "outputs": []
    },
    {
      "cell_type": "code",
      "metadata": {
        "id": "Y9rd0WjmfYaK"
      },
      "source": [
        "# Define the generator.\n",
        "def build_generator():\n",
        "    model = tf.keras.Sequential() # Initialize a sequential model object.\n",
        "    model.add(layers.Dense(7*7*256, use_bias=False, input_shape=(100,))) # Add a densely connected neural network layer.\n",
        "    # Batch Normalization is used to scale the mean and variances of the layer's inputs.\n",
        "    model.add(layers.BatchNormalization())\n",
        "    # Leaky Rectified Linear Units are used to increase the range of the ReLu function.\n",
        "    model.add(layers.LeakyReLU())\n",
        "    model.add(layers.Reshape((7, 7, 256)))\n",
        "    assert model.output_shape == (None, 7, 7, 256) \n",
        "    # Add a series of transposed convolution layers.\n",
        "    model.add(layers.Conv2DTranspose(128, (5, 5), strides=(1, 1), padding='same', use_bias=False))\n",
        "    assert model.output_shape == (None, 7, 7, 128)\n",
        "    model.add(layers.BatchNormalization())\n",
        "    model.add(layers.LeakyReLU())\n",
        "    model.add(layers.Conv2DTranspose(64, (5, 5), strides=(2, 2), padding='same', use_bias=False))\n",
        "    assert model.output_shape == (None, 14, 14, 64)\n",
        "    model.add(layers.BatchNormalization())\n",
        "    model.add(layers.LeakyReLU())\n",
        "    model.add(layers.Conv2DTranspose(1, (5, 5), strides=(2, 2), padding='same', use_bias=False, activation='tanh'))\n",
        "    assert model.output_shape == (None, 28, 28, 1) # Upsample until the target shape (None,28,28,1), where None is the batch size, is reached.\n",
        "    return model"
      ],
      "execution_count": 9,
      "outputs": []
    },
    {
      "cell_type": "code",
      "metadata": {
        "colab": {
          "base_uri": "https://localhost:8080/"
        },
        "id": "Ige3Eg4efjpd",
        "outputId": "458e84a2-f243-4123-9839-9fa919d55f7e"
      },
      "source": [
        "# Build the generator.\n",
        "generator = build_generator()\n",
        "generator.summary()"
      ],
      "execution_count": 10,
      "outputs": [
        {
          "output_type": "stream",
          "text": [
            "Model: \"sequential\"\n",
            "_________________________________________________________________\n",
            "Layer (type)                 Output Shape              Param #   \n",
            "=================================================================\n",
            "dense (Dense)                (None, 12544)             1254400   \n",
            "_________________________________________________________________\n",
            "batch_normalization (BatchNo (None, 12544)             50176     \n",
            "_________________________________________________________________\n",
            "leaky_re_lu (LeakyReLU)      (None, 12544)             0         \n",
            "_________________________________________________________________\n",
            "reshape (Reshape)            (None, 7, 7, 256)         0         \n",
            "_________________________________________________________________\n",
            "conv2d_transpose (Conv2DTran (None, 7, 7, 128)         819200    \n",
            "_________________________________________________________________\n",
            "batch_normalization_1 (Batch (None, 7, 7, 128)         512       \n",
            "_________________________________________________________________\n",
            "leaky_re_lu_1 (LeakyReLU)    (None, 7, 7, 128)         0         \n",
            "_________________________________________________________________\n",
            "conv2d_transpose_1 (Conv2DTr (None, 14, 14, 64)        204800    \n",
            "_________________________________________________________________\n",
            "batch_normalization_2 (Batch (None, 14, 14, 64)        256       \n",
            "_________________________________________________________________\n",
            "leaky_re_lu_2 (LeakyReLU)    (None, 14, 14, 64)        0         \n",
            "_________________________________________________________________\n",
            "conv2d_transpose_2 (Conv2DTr (None, 28, 28, 1)         1600      \n",
            "=================================================================\n",
            "Total params: 2,330,944\n",
            "Trainable params: 2,305,472\n",
            "Non-trainable params: 25,472\n",
            "_________________________________________________________________\n"
          ],
          "name": "stdout"
        }
      ]
    },
    {
      "cell_type": "code",
      "metadata": {
        "id": "Wc2MQXp8fwO9"
      },
      "source": [
        "# Define the discriminator.\n",
        "def build_discriminator():\n",
        "    model = tf.keras.Sequential() # Initialize a sequential model object.\n",
        "    # Create a CNN-based image classifier.\n",
        "    model.add(layers.Conv2D(64, (5, 5), strides=(2, 2), padding='same', input_shape=[28, 28, 1]))\n",
        "    model.add(layers.LeakyReLU())\n",
        "    # Add a droupout to prevent overfitting.\n",
        "    model.add(layers.Dropout(0.3))\n",
        "    model.add(layers.Conv2D(128, (5, 5), strides=(2, 2), padding='same'))\n",
        "    model.add(layers.LeakyReLU())\n",
        "    model.add(layers.Dropout(0.3))\n",
        "    # Flatten the output of the last convolutional layer and pass it to the dense layer.\n",
        "    model.add(layers.Flatten())\n",
        "    model.add(layers.Dense(1))\n",
        "    return model "
      ],
      "execution_count": 11,
      "outputs": []
    },
    {
      "cell_type": "code",
      "metadata": {
        "colab": {
          "base_uri": "https://localhost:8080/"
        },
        "id": "95vWa62yf2br",
        "outputId": "ef339cf8-cb5c-4c04-aa75-990d34463912"
      },
      "source": [
        "# Build the discriminator.\n",
        "discriminator = build_discriminator()\n",
        "discriminator.summary()"
      ],
      "execution_count": 12,
      "outputs": [
        {
          "output_type": "stream",
          "text": [
            "Model: \"sequential_1\"\n",
            "_________________________________________________________________\n",
            "Layer (type)                 Output Shape              Param #   \n",
            "=================================================================\n",
            "conv2d (Conv2D)              (None, 14, 14, 64)        1664      \n",
            "_________________________________________________________________\n",
            "leaky_re_lu_3 (LeakyReLU)    (None, 14, 14, 64)        0         \n",
            "_________________________________________________________________\n",
            "dropout (Dropout)            (None, 14, 14, 64)        0         \n",
            "_________________________________________________________________\n",
            "conv2d_1 (Conv2D)            (None, 7, 7, 128)         204928    \n",
            "_________________________________________________________________\n",
            "leaky_re_lu_4 (LeakyReLU)    (None, 7, 7, 128)         0         \n",
            "_________________________________________________________________\n",
            "dropout_1 (Dropout)          (None, 7, 7, 128)         0         \n",
            "_________________________________________________________________\n",
            "flatten (Flatten)            (None, 6272)              0         \n",
            "_________________________________________________________________\n",
            "dense_1 (Dense)              (None, 1)                 6273      \n",
            "=================================================================\n",
            "Total params: 212,865\n",
            "Trainable params: 212,865\n",
            "Non-trainable params: 0\n",
            "_________________________________________________________________\n"
          ],
          "name": "stdout"
        }
      ]
    },
    {
      "cell_type": "code",
      "metadata": {
        "id": "m9Gs6ARKf7Sy"
      },
      "source": [
        "# Define a helper fucntion to calculate the cross entropy loss.\n",
        "cross_entropy = tf.keras.losses.BinaryCrossentropy(from_logits=True)\n",
        "# Measure how well the discriminator can distinguish real (1) from fake (0) images.\n",
        "def discriminator_loss(real, fake):\n",
        "    real_loss = cross_entropy(tf.ones_like(real), real) # Compare the binary predictions of the discriminator on real images to a tensor of all ones with the same shape.\n",
        "    fake_loss = cross_entropy(tf.zeros_like(fake), fake) # Compare the binary predictions of the discriminator on fake images to a tensor of all zeroes with the same shape.\n",
        "    total_loss = real_loss + fake_loss\n",
        "    return total_loss\n",
        "# Measure how well the generator can trick the discriminator.\n",
        "def generator_loss(fake):\n",
        "    return cross_entropy(tf.ones_like(fake), fake) # Compare the binary predictions of the discriminator on fake images to a tensor of all ones with the same shape."
      ],
      "execution_count": 13,
      "outputs": []
    },
    {
      "cell_type": "code",
      "metadata": {
        "id": "O05Fi5g2gIHO"
      },
      "source": [
        "# Define two seperate Adam optimizers for the generator and discriminator.\n",
        "generator_optimizer = tf.keras.optimizers.Adam(1e-4)\n",
        "discriminator_optimizer = tf.keras.optimizers.Adam(1e-4)"
      ],
      "execution_count": 14,
      "outputs": []
    },
    {
      "cell_type": "code",
      "metadata": {
        "id": "oWyb5TEwgLUN"
      },
      "source": [
        "# Save checkpoints during training so the model can be restored.\n",
        "checkpoint_dir = '/content/gdrive/My Drive/Fashion Synthesis/DCGAN/MNIST'\n",
        "checkpoint_prefix = os.path.join(checkpoint_dir, \"checkpoint\")\n",
        "checkpoint = tf.train.Checkpoint(generator_optimizer=generator_optimizer, discriminator_optimizer=discriminator_optimizer, generator=generator, discriminator=discriminator)"
      ],
      "execution_count": 15,
      "outputs": []
    },
    {
      "cell_type": "code",
      "metadata": {
        "id": "OADq5nmegXOV"
      },
      "source": [
        "# Define a method to generate and save fake images after training. \n",
        "def generate_and_save_images(model, epoch, test_input):\n",
        "  predictions = model(test_input, training=False)\n",
        "  fig = plt.figure(figsize=(4,4))\n",
        "  for i in range(predictions.shape[0]):\n",
        "      plt.subplot(4, 4, i+1)\n",
        "      plt.imshow(predictions[i, :, :, 0] * 127.5 + 127.5, cmap='gray')\n",
        "      plt.axis('off')\n",
        "  plt.savefig('image_at_epoch_{:04d}.png'.format(epoch))\n",
        "  plt.show()"
      ],
      "execution_count": 16,
      "outputs": []
    },
    {
      "cell_type": "code",
      "metadata": {
        "id": "FL7909u8m9qT"
      },
      "source": [
        "# Define a method that will return an image from a specific epoch.\n",
        "def display_image(epoch):\n",
        "  return PIL.Image.open('image_at_epoch_{:04d}.png'.format(epoch))"
      ],
      "execution_count": 17,
      "outputs": []
    },
    {
      "cell_type": "code",
      "metadata": {
        "id": "_6piD3FegPje"
      },
      "source": [
        "@tf.function # Compile the function into a callable TensorFlow graph.\n",
        "def train_step(images):\n",
        "    # Generate an image from some random noise.\n",
        "    noise = tf.random.normal([BATCH_SIZE, NOISE_DIM])\n",
        "    with tf.GradientTape() as gen_tape, tf.GradientTape() as disc_tape:\n",
        "      generated_images = generator(noise, training=True)\n",
        "    # The discriminator classifies the real images from the training set and the fake images produced by the discriminator.\n",
        "      real = discriminator(images, training=True)\n",
        "      fake= discriminator(generated_images, training=True)\n",
        "    # Calculate the losses of the generator and the discriminator. \n",
        "      gen_loss = generator_loss(fake)\n",
        "      disc_loss = discriminator_loss(real, fake)\n",
        "    # Calculate the gradients of the loss functions with GradientTape.\n",
        "    gradients_of_generator = gen_tape.gradient(gen_loss, generator.trainable_variables)\n",
        "    gradients_of_discriminator = disc_tape.gradient(disc_loss, discriminator.trainable_variables)\n",
        "    # Apply the optimizers to find the weights that minimize the losses. Update the generator and discriminator accordingly.\n",
        "    generator_optimizer.apply_gradients(zip(gradients_of_generator, generator.trainable_variables))\n",
        "    discriminator_optimizer.apply_gradients(zip(gradients_of_discriminator, discriminator.trainable_variables))"
      ],
      "execution_count": 18,
      "outputs": []
    },
    {
      "cell_type": "code",
      "metadata": {
        "id": "lKXSkjZZgWKJ"
      },
      "source": [
        "# Iterate over the number of epochs and train the DCGAN on the dataset in batches.\n",
        "def train(dataset, epochs):\n",
        "  for epoch in range(epochs):\n",
        "    start = time.time() # Get the starting time of each epoch.\n",
        "    for image_batch in dataset:\n",
        "      train_step(image_batch)\n",
        "    # Produce images for each training step.\n",
        "    display.clear_output(wait=True)\n",
        "    generate_and_save_images(generator, epoch + 1, seed)\n",
        "    # Save the model every 10 epochs.\n",
        "    if (epoch + 1) % 10 == 0:\n",
        "      checkpoint.save(file_prefix = checkpoint_prefix)\n",
        "    print ('Time for epoch {} is {} seconds.'.format(epoch + 1, time.time()-start)) # Record how long it took for each epoch to run.\n",
        "  # Produce an image for the final epoch.\n",
        "  display.clear_output(wait=True)\n",
        "  generate_and_save_images(generator, epochs, seed)"
      ],
      "execution_count": 19,
      "outputs": []
    },
    {
      "cell_type": "code",
      "metadata": {
        "colab": {
          "base_uri": "https://localhost:8080/",
          "height": 265
        },
        "id": "wAZ1yZ3AgbuJ",
        "outputId": "64b88fa6-b885-4d69-948b-bddb0ab63b61"
      },
      "source": [
        "# Train the generator and discriminator simultaneously.\n",
        "train(train_dataset, EPOCHS)"
      ],
      "execution_count": null,
      "outputs": [
        {
          "output_type": "display_data",
          "data": {
            "image/png": "[encoded data removed]",
            "text/plain": [
              "<Figure size 288x288 with 16 Axes>"
            ]
          },
          "metadata": {
            "tags": [],
            "needs_background": "light"
          }
        },
        {
          "output_type": "stream",
          "text": [
            "Time for epoch 2 is 719.6506066322327 seconds.\n"
          ],
          "name": "stdout"
        }
      ]
    },
    {
      "cell_type": "code",
      "metadata": {
        "colab": {
          "base_uri": "https://localhost:8080/"
        },
        "id": "kc4YhovJykte",
        "outputId": "0cf1110d-8318-414e-9609-69c2a883c449"
      },
      "source": [
        "# Restore training from the latest saved checkpoint.\n",
        "checkpoint.restore(tf.train.latest_checkpoint(checkpoint_dir))"
      ],
      "execution_count": 20,
      "outputs": [
        {
          "output_type": "execute_result",
          "data": {
            "text/plain": [
              "<tensorflow.python.training.tracking.util.CheckpointLoadStatus at 0x7f9a7ad10fd0>"
            ]
          },
          "metadata": {
            "tags": []
          },
          "execution_count": 20
        }
      ]
    },
    {
      "cell_type": "code",
      "metadata": {
        "id": "rz91W0ErnTEC"
      },
      "source": [
        "# Create a gif using all the saved images.\n",
        "gif_file = 'dcgan_fashion_mnist.gif'\n",
        "with imageio.get_writer(gif_file, mode='I') as writer:\n",
        "  filenames = glob.glob('image*.png')\n",
        "  filenames = sorted(filenames)\n",
        "  for filename in filenames:\n",
        "    image = imageio.imread(filename)\n",
        "    writer.append_data(image)\n",
        "  image = imageio.imread(filename)\n",
        "  writer.append_data(image)\n",
        "embed.embed_file(gif_file)"
      ],
      "execution_count": null,
      "outputs": []
    }
  ]
}